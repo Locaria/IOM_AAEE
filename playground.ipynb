{
 "cells": [
  {
   "cell_type": "code",
   "execution_count": 16,
   "metadata": {},
   "outputs": [
    {
     "ename": "SyntaxError",
     "evalue": "invalid syntax (1780130388.py, line 29)",
     "output_type": "error",
     "traceback": [
      "\u001b[1;36m  Cell \u001b[1;32mIn[16], line 29\u001b[1;36m\u001b[0m\n\u001b[1;33m    ga_service = client.get_service(\"GoogleAdsService\")\u001b[0m\n\u001b[1;37m    ^\u001b[0m\n\u001b[1;31mSyntaxError\u001b[0m\u001b[1;31m:\u001b[0m invalid syntax\n"
     ]
    }
   ],
   "source": [
    "from google.ads.googleads.client import GoogleAdsClient\n",
    "from google.ads.googleads.errors import GoogleAdsException\n",
    "\n",
    "\n",
    "# Caminho para o arquivo de configuração\n",
    "config_path = 'C:\\\\Users\\\\yngrid.figlioli\\\\Desktop\\\\AAEE\\\\IOM\\\\credentials.yaml'\n",
    "\n",
    "# Inicializa o cliente da API\n",
    "client = GoogleAdsClient.load_from_storage(config_path)\n",
    "\n",
    "try:\n",
    "    # Substitua 'customer_id' pelo seu ID de cliente do Google Ads\n",
    "    customer_id = '207-357-0021'\n",
    "    \n",
    "    # Cria uma consulta usando o Google Ads Query Language (GAQL)\n",
    "    query = (\"\"\"\n",
    "        SELECT\n",
    "            keyword_view.resource_name,\n",
    "            keyword_view.keyword_match_type,\n",
    "            metrics.impressions,\n",
    "            metrics.clicks,\n",
    "            metrics.cost_micros\n",
    "        FROM keyword_view\n",
    "        WHERE segments.date DURING LAST_7_DAYS\n",
    "        AND campaign.advertising_channel_type = 'SEARCH'\n",
    "        LIMIT 50\"\"\")\n",
    "\n",
    "# Obtenha a instância do serviço GoogleAdsService do cliente\n",
    "# Isso deve ser colocado fora de qualquer outro bloco de código, como loops ou definições de função\n",
    "ga_service = client.get_service(\"GoogleAdsService\")\n",
    "\n",
    "\n",
    "# Execute a consulta\n",
    "stream = ga_service.search_stream(customer_id=customer_id, query=query)\n",
    "\n",
    "# Processa os resultados\n",
    "for batch in stream:\n",
    "    for row in batch.results:\n",
    "        print(f\"Keyword: {row.keyword_view.resource_name}, \"\n",
    "              f\"Match Type: {row.keyword_view.keyword_match_type}, \"\n",
    "              f\"Impressions: {row.metrics.impressions}, \"\n",
    "              f\"Clicks: {row.metrics.clicks}, \"\n",
    "              f\"Cost: {row.metrics.cost_micros / 1e6} USD\")\n"
   ]
  },
  {
   "cell_type": "code",
   "execution_count": null,
   "metadata": {},
   "outputs": [],
   "source": []
  }
 ],
 "metadata": {
  "kernelspec": {
   "display_name": "Python 3",
   "language": "python",
   "name": "python3"
  },
  "language_info": {
   "codemirror_mode": {
    "name": "ipython",
    "version": 3
   },
   "file_extension": ".py",
   "mimetype": "text/x-python",
   "name": "python",
   "nbconvert_exporter": "python",
   "pygments_lexer": "ipython3",
   "version": "3.9.13"
  }
 },
 "nbformat": 4,
 "nbformat_minor": 2
}
